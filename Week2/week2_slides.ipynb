{
 "cells": [
  {
   "cell_type": "markdown",
   "metadata": {
    "slideshow": {
     "slide_type": "slide"
    }
   },
   "source": [
    "# Numerical Methods week 2\n",
    "\n",
    "### Learning outcomes:\n",
    "- Recall methods of solution of inhomogeneous systems of linear equations.\n",
    "- Elimination methods, Gauss elimination, Gauss-Jordan elimination .\n",
    "- Implement and use Gauss-Jordan Elimination to solve systems of equations.\n",
    "  \n",
    "### Reading:\n",
    "\n",
    "- Introduction to Part 3 and chapter 9 of Chapra and Canale."
   ]
  },
  {
   "cell_type": "markdown",
   "metadata": {
    "slideshow": {
     "slide_type": "slide"
    }
   },
   "source": [
    "## Solving a system of Equations\n",
    "\n",
    "Suppose we want to solve a system of equations $A x = b$\n",
    "\n",
    "Where $A$ is a matrix of coefficients of our vector of unknowns, $x$ and $b$ is a vector of constants.\n",
    "\n",
    "Explicitly this can be written (for a set of 4 equations with 4 unknowns) as:\n",
    "\n",
    "$$ \n",
    "\\left( \\begin{array}{cccc}\n",
    "a_{00} & a_{01} & a_{02} & a_{03}\\\\ \n",
    "a_{10} & a_{11} & a_{12} & a_{13}\\\\ \n",
    "a_{20} & a_{21} & a_{22} & a_{23}\\\\ \n",
    "a_{30} & a_{31} & a_{32} & a_{33}\\\\ \n",
    "\\end{array} \\right)\n",
    "\\left( \\begin{array}{c}\n",
    "x_0\\\\\n",
    "x_1\\\\\n",
    "x_2\\\\\n",
    "x_3\\\\\n",
    "\\end{array} \\right)\n",
    "=\n",
    "\\left( \\begin{array}{c}\n",
    "b_0\\\\\n",
    "b_1\\\\\n",
    "b_2\\\\\n",
    "b_3\\\\\n",
    "\\end{array} \\right)\n",
    "$$"
   ]
  },
  {
   "cell_type": "markdown",
   "metadata": {
    "slideshow": {
     "slide_type": "slide"
    }
   },
   "source": [
    "### Augmented Matrix\n",
    "\n",
    "<p class='fragment'> It can be useful to rewrite this as an <a href='https://en.wikipedia.org/wiki/Augmented_matrix'>augmented matrix</a><br><br> \n",
    "   \\[ \\left( \\begin{array}{cccc|c}\n",
    "   a_{00} & a_{01} & a_{02} & a_{03} & b_0\\\\ \n",
    "   a_{10} & a_{11} & a_{12} & a_{13} & b_1\\\\ \n",
    "   a_{20} & a_{21} & a_{22} & a_{23} & b_2\\\\ \n",
    "   a_{30} & a_{31} & a_{32} & a_{33} & b_3\\\\ \n",
    "   \\end{array} \\right)\\]\n",
    " </p>"
   ]
  },
  {
   "cell_type": "markdown",
   "metadata": {
    "slideshow": {
     "slide_type": "slide"
    }
   },
   "source": [
    "   <h2 id=\"Gaussian Elimination\">Gaussian Elimination<a class=\"anchor-link\" href=\"#Gaussian Elimination\">&#182;</a></h2>    \n",
    "   <h3 id=\"Triangularization\">Triangularization<a class=\"anchor-link\" href=\"#Triangularization\">&#182;</a></h3>      \n",
    "   <p>We reduce the augmented matrix to <a href='https://en.wikipedia.org/wiki/Row_echelon_form'>row echelon form</a>. Let us take an initial augmented matrix as: \n",
    "     \\[ \\left( \\begin{array}{cccc|c}\n",
    "     2 & 2 & 4 & -2 & 10\\\\ \n",
    "     1 & 3 & 2 & 4 & 17\\\\ \n",
    "     3 & 1 & 3 & 1 & 18\\\\ \n",
    "     1 & 3 & 4 & 2 & 27\\\\ \n",
    "     \\end{array} \\right) \\]\n",
    "   </p>\n",
    "   <p class=fragment>\n",
    "     pivoting around row 0, we remove all entries below the diagonal entry in column 0,\n",
    "     \\[ \\left( \\begin{array}{cccc|c}\n",
    "     2 & 2 & 4 & -2 & 10\\\\ \n",
    "     0 & 2 & 0 & 5 & 12\\\\ \n",
    "     0 & -2 & -3 & 4 & 3\\\\ \n",
    "     0 & 2 & 2 & 3 & 22\\\\ \n",
    "     \\end{array} \\right) \\]\n",
    "   </p>"
   ]
  },
  {
   "cell_type": "markdown",
   "metadata": {
    "slideshow": {
     "slide_type": "subslide"
    }
   },
   "source": [
    "   <p>\n",
    "     Matrix after pivoting around row 0\t\n",
    "     \\[ \\left( \\begin{array}{cccc|c}\n",
    "     2 & 2 & 4 & -2 & 10\\\\ \n",
    "     0 & 2 & 0 & 5 & 12\\\\ \n",
    "     0 & -2 & -3 & 4 & 3\\\\ \n",
    "     0 & 2 & 2 & 3 & 22\\\\ \n",
    "     \\end{array} \\right) \\]\n",
    "   </p><p class=fragment>\n",
    "     Then pivoting around row 1 we remove elements below the diagonal in column 1,\n",
    "     \\[ \\left( \\begin{array}{cccc|c}\n",
    "     2 & 2 & 4 & -2 & 10\\\\ \n",
    "     0 & 2 & 0 & 5 & 12\\\\ \n",
    "     0 & 0 & -3 & 9 & 15\\\\ \n",
    "     0 & 0 & 2 & -2 & 10\\\\ \n",
    "     \\end{array} \\right) \\]\n",
    "   </p><p class=fragment>\t  \n",
    "     pivoting around row 2\n",
    "     \\[ \\left( \\begin{array}{cccc|c}\n",
    "     2 & 2 & 4 & -2 & 10\\\\ \n",
    "     0 & 2 & 0 & 5 & 12\\\\ \n",
    "     0 & 0 & -3 & 9 & 15\\\\ \n",
    "     0 & 0 & 0 & 4 & 20\\\\ \n",
    "     \\end{array} \\right) \\]\n",
    "   </p>"
   ]
  },
  {
   "cell_type": "markdown",
   "metadata": {
    "slideshow": {
     "slide_type": "slide"
    }
   },
   "source": [
    "  <h2 id=\"Gaussian Elimination\">Gaussian Elimination<a class=\"anchor-link\" href=\"#Gaussian Elimination\">&#182;</a></h2>    \n",
    "  <h3 id=\"Back substitution\">Back substitution<a class=\"anchor-link\" href=\"#Back substitution\">&#182;</a></h3>\n",
    "  <p> From the triangularized augmented matrix we can then solve for $x$\n",
    "   \\[ \\left( \\begin{array}{cccc|c}\n",
    "   2 & 2 & 4 & -2 & 10\\\\ \n",
    "   0 & 2 & 0 & 5 & 12\\\\ \n",
    "   0 & 0 & -3 & 9 & 15\\\\ \n",
    "   0 & 0 & 0 & 4 & 20\\\\ \n",
    "   \\end{array} \\right) \\]\n",
    " </p>\n",
    " <p class=fragment>Starting at row 3, only the coefficient of $x_3$ is non-zero. Converting the augmented notation to real equations using the last row we have\n",
    "   $$\n",
    "   0 \\cdot x_0 + 0 \\cdot x_1 + 0 \\cdot x_2 + 4 \\cdot x_3 = 20 \\implies x_3 = 5\n",
    "   $$\n",
    " </p>\n",
    " <p class=fragment>Then we can work up the rows\n",
    "   \\[\\begin{align*}\n",
    "   0 \\cdot x_0 + 0 \\cdot x_1 + -3 \\cdot x_2 + 9 \\cdot x_3 & = 15 \\\\\n",
    "   0 \\cdot x_0 + 0 \\cdot x_1 + -3 \\cdot x_2 + 9 \\cdot 5 & = 15 \\implies x_2 = 10\t  \n",
    "   \\end{align*}\\]\n",
    " </p>"
   ]
  },
  {
   "cell_type": "markdown",
   "metadata": {
    "slideshow": {
     "slide_type": "subslide"
    }
   },
   "source": [
    "  <p class=fragment>Now row 2\n",
    "   \\[\\begin{align*}\n",
    "   0 \\cdot x_0 + 2 \\cdot x_1 + 0 \\cdot x_2 + 5 \\cdot x_3 & = 12 \\\\\n",
    "   0 \\cdot x_0 + 2 \\cdot x_1 + 0 \\cdot 10 + 9 \\cdot 4 & = 12 \\implies x_1 = -6.5\n",
    "   \\end{align*}\\]\n",
    " </p>\n",
    " <p class=fragment>And finally\n",
    "   \\[\\begin{align*}\n",
    "   2 \\cdot x_0 + 2 \\cdot -6.5 + 4 \\cdot 10 + -2 \\cdot 4 & = 10 \\implies x_0 = -3.5\n",
    "   \\end{align*}\\]\n",
    " </p>"
   ]
  },
  {
   "cell_type": "markdown",
   "metadata": {
    "slideshow": {
     "slide_type": "slide"
    }
   },
   "source": [
    "### Python Gauss Elimination\n",
    "\n",
    "Ideally I would like everyone to be able to use C++ or python. Here is a python code.\n",
    "\n",
    "You can run python code using spyder, a python shell or jupyter notebooks. All are available on the boxes in INB 2305 and are freely available online.  \n"
   ]
  },
  {
   "cell_type": "code",
   "execution_count": 22,
   "metadata": {
    "slideshow": {
     "slide_type": "slide"
    }
   },
   "outputs": [
    {
     "name": "stdout",
     "output_type": "stream",
     "text": [
      "[[1.85973119 9.09563155 8.93534151 8.68534022]\n",
      " [9.55680619 6.52389492 1.51861023 8.86640528]\n",
      " [1.72905822 2.90730446 6.61054075 7.08207885]]\n"
     ]
    }
   ],
   "source": [
    "import numpy as np # import our numpy library and call it np for short\n",
    "\n",
    "N = 3 # size of the problem\n",
    "a = np.random.uniform(1,10,(N,N+1)) # generate a N x(N+1) matrix \n",
    "x = np.zeros(3) # create a solution vector of zeros ready to be filled\n",
    "print(a)"
   ]
  },
  {
   "cell_type": "code",
   "execution_count": 24,
   "metadata": {
    "slideshow": {
     "slide_type": "subslide"
    }
   },
   "outputs": [
    {
     "name": "stdout",
     "output_type": "stream",
     "text": [
      "[[  1.85973119   9.09563155   8.93534151   8.68534022]\n",
      " [  0.         -40.21683221 -44.39841678 -35.76591245]\n",
      " [  0.           0.           4.42925003   3.94208684]]\n"
     ]
    }
   ],
   "source": [
    "# eliminating - we are going to modify a as we do it\n",
    "for i in range(N-1): # go across the columns 1 at a time\n",
    "    for j in range(i+1,N,1): # now we go down the column below the diagonal\n",
    "        coeff = a[j,i]/a[i,i] # find ratio of diagonal element to value in this row\n",
    "        for k in range(i,N+1,1): # no move along the row\n",
    "            a[j,k] -= a[i,k]*coeff # subtract the right amoung of the row on the diagonal \n",
    "print(a)"
   ]
  },
  {
   "cell_type": "code",
   "execution_count": 25,
   "metadata": {
    "slideshow": {
     "slide_type": "subslide"
    }
   },
   "outputs": [
    {
     "name": "stdout",
     "output_type": "stream",
     "text": [
      "[ 0.84997173 -0.09322522  0.89001226]\n"
     ]
    }
   ],
   "source": [
    "# now back substitute\n",
    "for i in range(N-1,-1,-1): # start at the bottom and work up\n",
    "    x[i] = a[i,N+1-1]\n",
    "    for j in range(i+1, N,1):\n",
    "        x[i] -= a[i,j]*x[j]\n",
    "    x[i] /= a[i,i]\n",
    "print(x)"
   ]
  },
  {
   "cell_type": "markdown",
   "metadata": {
    "slideshow": {
     "slide_type": "slide"
    }
   },
   "source": [
    "To make things more usable we could put the Guassian Elimination code into a function:"
   ]
  },
  {
   "cell_type": "code",
   "execution_count": 27,
   "metadata": {
    "slideshow": {
     "slide_type": "slide"
    }
   },
   "outputs": [
    {
     "name": "stdout",
     "output_type": "stream",
     "text": [
      "[ 0.84997173 -0.09322522  0.89001226]\n"
     ]
    }
   ],
   "source": [
    "import numpy as np\n",
    "\n",
    "def gauss_elim(a, N):\n",
    "    \"\"\"solves a set of linear equations\n",
    "    N must be the number of rows (dimension of solution). \n",
    "    Warning: On exit the original matrix is changed to row echelon form.\n",
    "    \"\"\"\n",
    "    x = np.zeros(N);\n",
    "    # eliminating\n",
    "    for i in range(N-1):\n",
    "        for j in range(i+1,N,1):\n",
    "            coeff = a[j,i]/a[i,i]\n",
    "            for k in range(i,N+1,1):\n",
    "                a[j,k] -= a[i,k]*coeff\n",
    "    # now back substitute\n",
    "    for i in range(N-1,-1,-1):\n",
    "        x[i] = a[i,N+1-1]\n",
    "        for j in range(i+1, N,1):\n",
    "            x[i] -= a[i,j]*x[j]\n",
    "        x[i] /= a[i,i]\n",
    "    return x\n",
    "\n",
    "# build a random 2d 3x4 augmented matrix\n",
    "x = gauss_elim(a,N)      \n",
    "print(x)"
   ]
  },
  {
   "cell_type": "markdown",
   "metadata": {
    "slideshow": {
     "slide_type": "slide"
    }
   },
   "source": [
    "  <h2 id=\"Gauss Elimination\">Gauss Elimination<a class=\"anchor-link\" href=\"#Gauss Elimination\">&#182;</a></h2>\n",
    "  <p>Use the code to find the solutions of the following systems</p>\n",
    "\n",
    "  <div style=\"background-color:Lavender; margin-left: 20px; margin-right: 20px; padding-bottom: 8px; padding-left:\n",
    "  8px; padding-right: 8px; padding-top: 8px; border-radius: 25px;\">\n",
    "  <p>\n",
    "   \\[\n",
    "   \\begin{align*}\n",
    "   3x_0  +  4x_1 - 7x_2 & = 23\\\\\n",
    "   7x_0  -   x_1 + 2x_2 & = 14\\\\\n",
    "   x_0  + 10x_1 - 2x_2 & = 33\\\\\n",
    "   \\end{align*}\n",
    "   \\]\n",
    " </p>\n",
    " <p>Can you find the solutions to this system of equations? Why not?\n",
    "   \\[\n",
    "   \\begin{align*}\n",
    "   1x_0 + 2x_1 + 3x_2 & = 1\\\\\n",
    "   4x_0 + 5x_1 + 6x_2 & = 2\\\\\n",
    "   7x_0 + 8x_1 + 9x_2 & = 3\\\\\n",
    "   \\end{align*}\n",
    "   \\]<br><br>\n",
    " </p>\n",
    "</div>"
   ]
  },
  {
   "cell_type": "markdown",
   "metadata": {
    "slideshow": {
     "slide_type": "slide"
    }
   },
   "source": [
    "## Guass-Jordan elimination\n",
    "\n",
    "<p>Guass-Jordan elimination is very similar to Gauss elimination. Instead of triangularization, we make a completely diagonal matrix. Or more exactly we reduce the augmented matrix to $\\textbf{reduced}$ row echelon form.\n",
    "     Initial matrix is: \n",
    "     \\[ \\left( \\begin{array}{cccc|c}\n",
    "     2 & 2 & 4 & -2 & 10\\\\ \n",
    "     1 & 3 & 2 & 4 & 17\\\\ \n",
    "     3 & 1 & 3 & 1 & 18\\\\ \n",
    "     1 & 3 & 4 & 2 & 27\\\\ \n",
    "     \\end{array} \\right) \\]\n",
    "     as before\n",
    "   </p><p class='fragment'> The first step is the same:\t  \n",
    "     pivoting around row 0\n",
    "     \\[ \\left( \\begin{array}{cccc|c}\n",
    "     2 & 2 & 4 & -2 & 10\\\\ \n",
    "     0 & 2 & 0 & 5 & 12\\\\ \n",
    "     0 & -2 & -3 & 4 & 3\\\\ \n",
    "     0 & 2 & 2 & 3 & 22\\\\ \n",
    "     \\end{array} \\right) \\]\n",
    "   </p><p>\n",
    "   </p>"
   ]
  },
  {
   "cell_type": "markdown",
   "metadata": {
    "slideshow": {
     "slide_type": "subslide"
    }
   },
   "source": [
    "The first step is the same:\t  \n",
    "pivoting around row 0\n",
    "       \n",
    "$$ \\left( \\begin{array}{cccc|c}\n",
    "2 & 2 & 4 & -2 & 10\\\\ \n",
    "0 & 2 & 0 & 5 & 12\\\\ \n",
    "0 & -2 & -3 & 4 & 3\\\\ \n",
    "0 & 2 & 2 & 3 & 22\\\\ \n",
    "\\end{array} \\right) $$\n"
   ]
  },
  {
   "cell_type": "markdown",
   "metadata": {
    "slideshow": {
     "slide_type": "fragment"
    }
   },
   "source": [
    "But now, pivoting around row 1, we remove entries above $\\textbf{and}$ below the diagonal of column 1\n",
    "\n",
    "$$\n",
    "\\left( \\begin{array}{cccc|c}\n",
    "       2 & 0 & 4 & -7 & -2\\\\ \n",
    "       0 & 2 & 0 & 5 & 12\\\\ \n",
    "       0 & 0 & -3 & 9 & 15\\\\ \n",
    "       0 & 0 & 2 & -2 & 10\\\\ \n",
    "       \\end{array} \\right)\n",
    "$$"
   ]
  },
  {
   "cell_type": "markdown",
   "metadata": {
    "slideshow": {
     "slide_type": "fragment"
    }
   },
   "source": [
    "This continues\n",
    "       pivoting around row 2\n",
    "       $$ \\left( \\begin{array}{cccc|c}\n",
    "       2 & 0 & 0 & 5 & 18\\\\ \n",
    "       0 & 2 & 0 & 5 & 12\\\\ \n",
    "       0 & 0 & -3 & 9 & 15\\\\ \n",
    "       0 & 0 & 0 & 4 & 20\\\\ \n",
    "       \\end{array} \\right) $$\n",
    "     </p>"
   ]
  },
  {
   "cell_type": "markdown",
   "metadata": {
    "slideshow": {
     "slide_type": "subslide"
    }
   },
   "source": [
    "<p>And finally, pivoting around row 3\n",
    "\n",
    "$$ \\left( \\begin{array}{cccc|c}\n",
    "2 & 0 & 0 & 0 & -7\\\\ \n",
    "0 & 2 & 0 & 0 & -13\\\\ \n",
    "0 & 0 & -3 & 0 & -30\\\\ \n",
    "0 & 0 & 0 & 4 & 20\\\\ \n",
    "\\end{array} \\right) $$\n",
    "\n",
    "</p>\n",
    "<p>We can then divide each row by the final coefficients to get: \n",
    "       $$ \\left( \\begin{array}{cccc|c}\n",
    "       1 & 0 & 0 & 0 & -3.5\\\\ \n",
    "       0 & 1 & 0 & 0 & -6.5\\\\ \n",
    "       -0 & -0 & 1 & -0 & 10\\\\ \n",
    "       0 & 0 & 0 & 1 & 5\\\\ \n",
    "       \\end{array} \\right) $$\n",
    "       And we can just read off the solutions, $x$.\n",
    "     </p>"
   ]
  },
  {
   "cell_type": "markdown",
   "metadata": {
    "slideshow": {
     "slide_type": "slide"
    }
   },
   "source": [
    "<h2 id=\"Gauss-Jordan Elimination for Matrix Inversion\">Gauss-Jordan Elimination for Matrix Inversion<a class=\"anchor-link\" href=\"#Gauss-Jordan Elimination for Matrix Inversion\">&#182;</a></h2>\n",
    "   \n",
    "<p>We can solve the equation $AB = I$ using exactly the same method:\n",
    " \\[ \\left( \\begin{array}{ccc|ccc}\n",
    " 2 & 1 & 1 & 1 & 0 & 0\\\\ \n",
    " 1 & 0 & -1 & 0 & 1 & 0\\\\ \n",
    " 2 & -1 & 2 & 0 & 0 & 1\\\\ \n",
    " \\end{array} \\right) \\]\n",
    "\n",
    "pivoting around row 0\n",
    "\n",
    "$$ \\left( \\begin{array}{ccc|ccc}\n",
    " 2 & 1 & 1 & 1 & 0 & 0\\\\ \n",
    " 0 & -0.5 & -1.5 & -0.5 & 1 & 0\\\\ \n",
    " 0 & -2 & 1 & -1 & 0 & 1\\\\ \n",
    " \\end{array} \\right) $$\n",
    "\n",
    " pivoting around row 1\n",
    "\n",
    "$$ \\left( \\begin{array}{ccc|ccc}\n",
    " 2 & 0 & -2 & 0 & 2 & 0\\\\ \n",
    " 0 & -0.5 & -1.5 & -0.5 & 1 & 0\\\\ \n",
    " 0 & 0 & 7 & 1 & -4 & 1\\\\ \n",
    " \\end{array} \\right) $$\n",
    "</p>"
   ]
  },
  {
   "cell_type": "markdown",
   "metadata": {
    "slideshow": {
     "slide_type": "subslide"
    }
   },
   "source": [
    "   <p>\n",
    "     pivoting around row 2\n",
    "     \\[ \\left( \\begin{array}{ccc|ccc}\n",
    "     2 & 0 & 0 & 0.285714 & 0.857143 & 0.285714\\\\ \n",
    "     0 & -0.5 & 0 & -0.285714 & 0.142857 & 0.214286\\\\ \n",
    "     0 & 0 & 7 & 1 & -4 & 1\\\\ \n",
    "     \\end{array} \\right) \\]\n",
    "\n",
    " Scaling the rows, the final matrix is:\n",
    "\n",
    " $$ \\left( \\begin{array}{ccc|ccc}\n",
    " 1 & 0 & 0 & 0.142857 & 0.428571 & 0.142857\\\\ \n",
    " -0 & 1 & -0 & 0.571429 & -0.285714 & -0.428571\\\\ \n",
    " 0 & 0 & 1 & 0.142857 & -0.571429 & 0.142857\\\\ \n",
    " \\end{array} \\right)$$\n",
    "   </p>\n",
    "   <p> The RHS of the augmented matrix is $A^{-1}$\n",
    "   </p>"
   ]
  },
  {
   "cell_type": "markdown",
   "metadata": {
    "slideshow": {
     "slide_type": "slide"
    }
   },
   "source": [
    "  <h2 id=\"Gauss-Jordan Elimination\">Gauss-Jordan Elimination<a class=\"anchor-link\" href=\"#Gauss-Jordan Elimination\">&#182;</a></h2>\n",
    "  <div style=\"background-color:Lavender; margin-left: 20px; margin-right: 20px; padding-bottom: 8px; padding-left:\n",
    "  8px; padding-right: 8px; padding-top: 8px; border-radius: 25px;\">\n",
    "    \n",
    "    \n",
    "  <p>Alter the code for Gauss elimination to instead perform Gauss-Jordan elimination.<br><br>\n",
    "   - I suggest copying your file for now, renaming rather than altering the previous code directly.\n",
    "   - You should change the second loop so that it goes over all rows.<br>\n",
    "   - You should add an `if` statement to skip the row with the same index as the column you are working on.<br>\n",
    "   - When the matrix is diagonal, divide each row by the value of the remaining diagonal element to get the identity matrix and $x$.<br>\n",
    "   - Test regularly as you make the alterations.\n",
    " </p>\n",
    "  <p> Solve the same matrix problems as before and check the result is the same.</p>"
   ]
  },
  {
   "cell_type": "markdown",
   "metadata": {
    "slideshow": {
     "slide_type": "slide"
    }
   },
   "source": [
    "<h2 id=\"Gauss-Jordan Elimination\">Gauss-Jordan Matrix inversion<a class=\"anchor-link\" href=\"#Gauss-Jordan Elimination\">&#182;</a></h2>\n",
    "<div style=\"background-color:Lavender; margin-left: 20px; margin-right: 20px; padding-bottom: 8px; padding-left:\n",
    "8px; padding-right: 8px; padding-top: 8px; border-radius: 25px;\">\n",
    "<p>Make a new Gauss-Jordan routine that can calculate the inverse of a matrix.<br><br>\n",
    " - You need to extend the number of columns in the augmented matrix<br>\n",
    " - You need to extend range of the loops that go over the columns<br><br>\n",
    "<p> Find the inverse of the matrix\n",
    " \\[ \\left( \\begin{array}{cccc}\n",
    " 2 & 2 & 4 & -2 \\\\ \n",
    " 1 & 3 & 2 & 4 \\\\ \n",
    " 3 & 1 & 3 & 1\\\\ \n",
    " 1 & 3 & 4 & 2 \\\\ \n",
    " \\end{array} \\right) \\]\n",
    " <br>\n",
    " Check your solution is correct by multiplying the original and inverse matrices.\n",
    "</p>\t    \n",
    "</div>"
   ]
  },
  {
   "cell_type": "markdown",
   "metadata": {
    "slideshow": {
     "slide_type": "slide"
    }
   },
   "source": [
    "  <h2 id=\"Test yourself\">Test yourself<a class=\"anchor-link\" href=\"#Test yourself\">&#182;</a></h2>    \n",
    "  <p>Try the test in the assessments tab of Bb. It is based on last week's material. The difficulty will probably be working with the matrices. Try to get a feel for the indices and accessing individual elements.</p>\n",
    "  </div>\n",
    "  \n",
    "<h2 id=\"Summary and Further Reading\">Summary and Further Reading<a class=\"anchor-link\" href=\"#Summary and Further Reading\">&#182;</a></h2>\n",
    "  <p>You should be reading additional material to provide a solid background to what we do in class</p>\n",
    "  <p>All the textbooks in the book list on Bb contain sections on solving linear equations. I suggest Chapter 9 of Chapra and Canale for starters.</p>\n",
    "  <h3>Homework</h3>\n",
    "  <p>Before next week read about extra steps that can be performed to improve elimination methods.</p>\n",
    "  <p>Read about LU decomposition of square matrices, Chapter 10 of Chapra and Canale.</p>"
   ]
  }
 ],
 "metadata": {
  "celltoolbar": "Slideshow",
  "kernelspec": {
   "display_name": "Python 3",
   "language": "python",
   "name": "python3"
  },
  "language_info": {
   "codemirror_mode": {
    "name": "ipython",
    "version": 3
   },
   "file_extension": ".py",
   "mimetype": "text/x-python",
   "name": "python",
   "nbconvert_exporter": "python",
   "pygments_lexer": "ipython3",
   "version": "3.7.7"
  }
 },
 "nbformat": 4,
 "nbformat_minor": 4
}
