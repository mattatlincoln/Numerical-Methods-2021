{
 "cells": [
  {
   "cell_type": "code",
   "execution_count": 1,
   "metadata": {},
   "outputs": [],
   "source": [
    "#include <iostream>\n",
    "#include <cmath>\n",
    "#include \"Eigen/Dense\""
   ]
  },
  {
   "cell_type": "code",
   "execution_count": 2,
   "metadata": {},
   "outputs": [],
   "source": [
    "using namespace Eigen;"
   ]
  },
  {
   "cell_type": "code",
   "execution_count": 10,
   "metadata": {},
   "outputs": [
    {
     "name": "stdout",
     "output_type": "stream",
     "text": [
      "  -3\n",
      "-2.3\n",
      "-1.6\n",
      "-0.9\n",
      "-0.2\n",
      " 0.5\n",
      " 1.2\n",
      " 1.9\n",
      " 2.6\n",
      " 3.3\n",
      "   4\n",
      "\n",
      "8.26384\n",
      "6.44045\n",
      "4.74903\n",
      "4.56565\n",
      "3.61012\n",
      "3.32744\n",
      "2.96439\n",
      "1.02239\n",
      "1.09485\n",
      "1.84053\n",
      "1.49111\n",
      "\n",
      "          1     20.0855     403.429\n",
      "          1     9.97418     99.4843\n",
      "          1     4.95303     24.5325\n",
      "          1      2.4596     6.04965\n",
      "          1      1.2214     1.49182\n",
      "          1    0.606531    0.367879\n",
      "          1    0.301194    0.090718\n",
      "          1    0.149569   0.0223708\n",
      "          1   0.0742736  0.00551656\n",
      "          1   0.0368832  0.00136037\n",
      "          1   0.0183156 0.000335463\n",
      "\n",
      "   2.01123\n",
      "  0.689626\n",
      "-0.0191538"
     ]
    }
   ],
   "source": [
    "VectorXd x(11), y(11);\n",
    "MatrixXd Z(11, 3);\n",
    "\n",
    "x << -3.0, -2.3, -1.6, -0.9, -0.2, 0.5, 1.2, 1.9, 2.6, 3.3, 4.0;\n",
    "y << 8.26383742, 6.44045188, 4.74903073, 4.5656476, 3.61011683,\n",
    "    3.32743918, 2.9643915, 1.02239181, 1.09485138, 1.84053372,\n",
    "    1.49110572;\n",
    "\n",
    "std::cout << x << \"\\n\\n\" << y << \"\\n\\n\";\n",
    "for (int datapoint = 0; datapoint < x.size(); datapoint++) {\n",
    "    Z(datapoint, 0) = 1;\n",
    "    Z(datapoint, 1) = exp(-x(datapoint));\n",
    "    Z(datapoint, 2) = exp(-2*x(datapoint));\n",
    "}\n",
    "\n",
    "std::cout << Z << \"\\n\\n\";\n",
    "\n",
    "VectorXd a = (Z.transpose() * Z).fullPivLu().solve(Z.transpose() * y);\n",
    "std::cout << a;"
   ]
  },
  {
   "cell_type": "code",
   "execution_count": 9,
   "metadata": {},
   "outputs": [
    {
     "name": "stdout",
     "output_type": "stream",
     "text": [
      "   2.01123\n",
      "  0.689626\n",
      "-0.0191538"
     ]
    }
   ],
   "source": [
    "std::cout << a;"
   ]
  },
  {
   "cell_type": "code",
   "execution_count": null,
   "metadata": {},
   "outputs": [],
   "source": []
  }
 ],
 "metadata": {
  "kernelspec": {
   "display_name": "C++14",
   "language": "C++14",
   "name": "xcpp14"
  },
  "language_info": {
   "codemirror_mode": "text/x-c++src",
   "file_extension": ".cpp",
   "mimetype": "text/x-c++src",
   "name": "c++",
   "version": "14"
  }
 },
 "nbformat": 4,
 "nbformat_minor": 4
}
