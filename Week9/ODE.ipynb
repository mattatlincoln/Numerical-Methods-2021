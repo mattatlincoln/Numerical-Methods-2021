{
 "cells": [
  {
   "cell_type": "code",
   "execution_count": 1,
   "metadata": {},
   "outputs": [],
   "source": [
    "import numpy as np\n",
    "import scipy.linalg\n",
    "import matplotlib.pyplot as plt"
   ]
  },
  {
   "cell_type": "code",
   "execution_count": 2,
   "metadata": {},
   "outputs": [
    {
     "data": {
      "text/plain": [
       "array([0.        , 0.01010101, 0.02020202, 0.03030303, 0.04040404,\n",
       "       0.05050505, 0.06060606, 0.07070707, 0.08080808, 0.09090909,\n",
       "       0.1010101 , 0.11111111, 0.12121212, 0.13131313, 0.14141414,\n",
       "       0.15151515, 0.16161616, 0.17171717, 0.18181818, 0.19191919,\n",
       "       0.2020202 , 0.21212121, 0.22222222, 0.23232323, 0.24242424,\n",
       "       0.25252525, 0.26262626, 0.27272727, 0.28282828, 0.29292929,\n",
       "       0.3030303 , 0.31313131, 0.32323232, 0.33333333, 0.34343434,\n",
       "       0.35353535, 0.36363636, 0.37373737, 0.38383838, 0.39393939,\n",
       "       0.4040404 , 0.41414141, 0.42424242, 0.43434343, 0.44444444,\n",
       "       0.45454545, 0.46464646, 0.47474747, 0.48484848, 0.49494949,\n",
       "       0.50505051, 0.51515152, 0.52525253, 0.53535354, 0.54545455,\n",
       "       0.55555556, 0.56565657, 0.57575758, 0.58585859, 0.5959596 ,\n",
       "       0.60606061, 0.61616162, 0.62626263, 0.63636364, 0.64646465,\n",
       "       0.65656566, 0.66666667, 0.67676768, 0.68686869, 0.6969697 ,\n",
       "       0.70707071, 0.71717172, 0.72727273, 0.73737374, 0.74747475,\n",
       "       0.75757576, 0.76767677, 0.77777778, 0.78787879, 0.7979798 ,\n",
       "       0.80808081, 0.81818182, 0.82828283, 0.83838384, 0.84848485,\n",
       "       0.85858586, 0.86868687, 0.87878788, 0.88888889, 0.8989899 ,\n",
       "       0.90909091, 0.91919192, 0.92929293, 0.93939394, 0.94949495,\n",
       "       0.95959596, 0.96969697, 0.97979798, 0.98989899, 1.        ])"
      ]
     },
     "execution_count": 2,
     "metadata": {},
     "output_type": "execute_result"
    }
   ],
   "source": [
    "x = np.linspace(0,1,100)\n",
    "x"
   ]
  },
  {
   "cell_type": "code",
   "execution_count": 3,
   "metadata": {},
   "outputs": [
    {
     "data": {
      "text/plain": [
       "array([0.        , 0.01010101, 0.02020202, 0.03030303, 0.04040404,\n",
       "       0.05050505, 0.06060606, 0.07070707, 0.08080808, 0.09090909,\n",
       "       0.1010101 , 0.11111111, 0.12121212, 0.13131313, 0.14141414,\n",
       "       0.15151515, 0.16161616, 0.17171717, 0.18181818, 0.19191919,\n",
       "       0.2020202 , 0.21212121, 0.22222222, 0.23232323, 0.24242424,\n",
       "       0.25252525, 0.26262626, 0.27272727, 0.28282828, 0.29292929,\n",
       "       0.3030303 , 0.31313131, 0.32323232, 0.33333333, 0.34343434,\n",
       "       0.35353535, 0.36363636, 0.37373737, 0.38383838, 0.39393939,\n",
       "       0.4040404 , 0.41414141, 0.42424242, 0.43434343, 0.44444444,\n",
       "       0.45454545, 0.46464646, 0.47474747, 0.48484848, 0.49494949,\n",
       "       0.50505051, 0.51515152, 0.52525253, 0.53535354, 0.54545455,\n",
       "       0.55555556, 0.56565657, 0.57575758, 0.58585859, 0.5959596 ,\n",
       "       0.60606061, 0.61616162, 0.62626263, 0.63636364, 0.64646465,\n",
       "       0.65656566, 0.66666667, 0.67676768, 0.68686869, 0.6969697 ,\n",
       "       0.70707071, 0.71717172, 0.72727273, 0.73737374, 0.74747475,\n",
       "       0.75757576, 0.76767677, 0.77777778, 0.78787879, 0.7979798 ,\n",
       "       0.80808081, 0.81818182, 0.82828283, 0.83838384, 0.84848485,\n",
       "       0.85858586, 0.86868687, 0.87878788, 0.88888889, 0.8989899 ,\n",
       "       0.90909091, 0.91919192, 0.92929293, 0.93939394, 0.94949495,\n",
       "       0.95959596, 0.96969697, 0.97979798, 0.98989899, 1.        ])"
      ]
     },
     "execution_count": 3,
     "metadata": {},
     "output_type": "execute_result"
    }
   ],
   "source": [
    "N = 100\n",
    "x2 = np.zeros(N)\n",
    "x2[0] = 0\n",
    "x2[N-1] = 1\n",
    "dx = (x2[N-1]-x2[0])/(N-1)\n",
    "for i in range(1,x2.shape[0]):\n",
    "    x2[i] = x2[0] + i*dx\n",
    "x2"
   ]
  },
  {
   "cell_type": "code",
   "execution_count": null,
   "metadata": {},
   "outputs": [],
   "source": []
  },
  {
   "cell_type": "code",
   "execution_count": 4,
   "metadata": {},
   "outputs": [
    {
     "data": {
      "text/plain": [
       "array([-4.00000000e-01,  1.03061015e-06,  2.06122030e-06,  3.09183046e-06,\n",
       "        4.12244061e-06,  5.15305076e-06,  6.18366091e-06,  7.21427106e-06,\n",
       "        8.24488122e-06,  9.27549137e-06,  1.03061015e-05,  1.13367117e-05,\n",
       "        1.23673218e-05,  1.33979320e-05,  1.44285421e-05,  1.54591523e-05,\n",
       "        1.64897624e-05,  1.75203726e-05,  1.85509827e-05,  1.95815929e-05,\n",
       "        2.06122030e-05,  2.16428132e-05,  2.26734233e-05,  2.37040335e-05,\n",
       "        2.47346437e-05,  2.57652538e-05,  2.67958640e-05,  2.78264741e-05,\n",
       "        2.88570843e-05,  2.98876944e-05,  3.09183046e-05,  3.19489147e-05,\n",
       "        3.29795249e-05,  3.40101350e-05,  3.50407452e-05,  3.60713553e-05,\n",
       "        3.71019655e-05,  3.81325756e-05,  3.91631858e-05,  4.01937959e-05,\n",
       "        4.12244061e-05,  4.22550162e-05,  4.32856264e-05,  4.43162365e-05,\n",
       "        4.53468467e-05,  4.63774568e-05,  4.74080670e-05,  4.84386772e-05,\n",
       "        4.94692873e-05,  5.04998975e-05,  5.15305076e-05,  5.25611178e-05,\n",
       "        5.35917279e-05,  5.46223381e-05,  5.56529482e-05,  5.66835584e-05,\n",
       "        5.77141685e-05,  5.87447787e-05,  5.97753888e-05,  6.08059990e-05,\n",
       "        6.18366091e-05,  6.28672193e-05,  6.38978294e-05,  6.49284396e-05,\n",
       "        6.59590497e-05,  6.69896599e-05,  6.80202700e-05,  6.90508802e-05,\n",
       "        7.00814903e-05,  7.11121005e-05,  7.21427106e-05,  7.31733208e-05,\n",
       "        7.42039310e-05,  7.52345411e-05,  7.62651513e-05,  7.72957614e-05,\n",
       "        7.83263716e-05,  7.93569817e-05,  8.03875919e-05,  8.14182020e-05,\n",
       "        8.24488122e-05,  8.34794223e-05,  8.45100325e-05,  8.55406426e-05,\n",
       "        8.65712528e-05,  8.76018629e-05,  8.86324731e-05,  8.96630832e-05,\n",
       "        9.06936934e-05,  9.17243035e-05,  9.27549137e-05,  9.37855238e-05,\n",
       "        9.48161340e-05,  9.58467441e-05,  9.68773543e-05,  9.79079645e-05,\n",
       "        9.89385746e-05,  9.99691848e-05,  1.00999795e-04, -3.00000000e+00])"
      ]
     },
     "execution_count": 4,
     "metadata": {},
     "output_type": "execute_result"
    }
   ],
   "source": [
    "dx = 1/(100-1)\n",
    "def g(x):\n",
    "    return x\n",
    "g = g(x)*dx*dx\n",
    "g[0] = -2*0.2\n",
    "g[99] = -2*1.5\n",
    "g"
   ]
  },
  {
   "cell_type": "code",
   "execution_count": 5,
   "metadata": {},
   "outputs": [
    {
     "data": {
      "text/plain": [
       "array([[-2.,  0.,  0., ...,  0.,  0.,  0.],\n",
       "       [ 1., -2.,  1., ...,  0.,  0.,  0.],\n",
       "       [ 0.,  1., -2., ...,  0.,  0.,  0.],\n",
       "       ...,\n",
       "       [ 0.,  0.,  0., ..., -2.,  1.,  0.],\n",
       "       [ 0.,  0.,  0., ...,  1., -2.,  1.],\n",
       "       [ 0.,  0.,  0., ...,  0.,  0., -2.]])"
      ]
     },
     "execution_count": 5,
     "metadata": {},
     "output_type": "execute_result"
    }
   ],
   "source": [
    "d2ydx2 = np.zeros((100,100))\n",
    "d2ydx2[0,0] = -2\n",
    "d2ydx2[99,99] = -2\n",
    "for i in range(1,99):\n",
    "    d2ydx2[i,i] = -2\n",
    "    d2ydx2[i,i-1] = 1\n",
    "    d2ydx2[i,i+1] = 1\n",
    "d2ydx2"
   ]
  },
  {
   "cell_type": "code",
   "execution_count": 6,
   "metadata": {},
   "outputs": [
    {
     "data": {
      "text/plain": [
       "array([-4.00000000e-01,  1.03061015e-06,  2.06122030e-06,  3.09183046e-06,\n",
       "        4.12244061e-06,  5.15305076e-06,  6.18366091e-06,  7.21427106e-06,\n",
       "        8.24488122e-06,  9.27549137e-06,  1.03061015e-05,  1.13367117e-05,\n",
       "        1.23673218e-05,  1.33979320e-05,  1.44285421e-05,  1.54591523e-05,\n",
       "        1.64897624e-05,  1.75203726e-05,  1.85509827e-05,  1.95815929e-05,\n",
       "        2.06122030e-05,  2.16428132e-05,  2.26734233e-05,  2.37040335e-05,\n",
       "        2.47346437e-05,  2.57652538e-05,  2.67958640e-05,  2.78264741e-05,\n",
       "        2.88570843e-05,  2.98876944e-05,  3.09183046e-05,  3.19489147e-05,\n",
       "        3.29795249e-05,  3.40101350e-05,  3.50407452e-05,  3.60713553e-05,\n",
       "        3.71019655e-05,  3.81325756e-05,  3.91631858e-05,  4.01937959e-05,\n",
       "        4.12244061e-05,  4.22550162e-05,  4.32856264e-05,  4.43162365e-05,\n",
       "        4.53468467e-05,  4.63774568e-05,  4.74080670e-05,  4.84386772e-05,\n",
       "        4.94692873e-05,  5.04998975e-05,  5.15305076e-05,  5.25611178e-05,\n",
       "        5.35917279e-05,  5.46223381e-05,  5.56529482e-05,  5.66835584e-05,\n",
       "        5.77141685e-05,  5.87447787e-05,  5.97753888e-05,  6.08059990e-05,\n",
       "        6.18366091e-05,  6.28672193e-05,  6.38978294e-05,  6.49284396e-05,\n",
       "        6.59590497e-05,  6.69896599e-05,  6.80202700e-05,  6.90508802e-05,\n",
       "        7.00814903e-05,  7.11121005e-05,  7.21427106e-05,  7.31733208e-05,\n",
       "        7.42039310e-05,  7.52345411e-05,  7.62651513e-05,  7.72957614e-05,\n",
       "        7.83263716e-05,  7.93569817e-05,  8.03875919e-05,  8.14182020e-05,\n",
       "        8.24488122e-05,  8.34794223e-05,  8.45100325e-05,  8.55406426e-05,\n",
       "        8.65712528e-05,  8.76018629e-05,  8.86324731e-05,  8.96630832e-05,\n",
       "        9.06936934e-05,  9.17243035e-05,  9.27549137e-05,  9.37855238e-05,\n",
       "        9.48161340e-05,  9.58467441e-05,  9.68773543e-05,  9.79079645e-05,\n",
       "        9.89385746e-05,  9.99691848e-05,  1.00999795e-04, -3.00000000e+00])"
      ]
     },
     "execution_count": 6,
     "metadata": {},
     "output_type": "execute_result"
    }
   ],
   "source": [
    "g"
   ]
  },
  {
   "cell_type": "code",
   "execution_count": 7,
   "metadata": {},
   "outputs": [
    {
     "data": {
      "text/plain": [
       "array([0.2       , 0.21144798, 0.222897  , 0.23434807, 0.24580224,\n",
       "       0.25726053, 0.26872397, 0.2801936 , 0.29167044, 0.30315552,\n",
       "       0.31464988, 0.32615455, 0.33767055, 0.34919892, 0.36074069,\n",
       "       0.37229689, 0.38386855, 0.39545669, 0.40706236, 0.41868658,\n",
       "       0.43033038, 0.44199479, 0.45368084, 0.46538957, 0.477122  ,\n",
       "       0.48887917, 0.5006621 , 0.51247183, 0.52430938, 0.53617579,\n",
       "       0.54807209, 0.55999931, 0.57195847, 0.58395062, 0.59597677,\n",
       "       0.60803797, 0.62013524, 0.63226961, 0.64444211, 0.65665377,\n",
       "       0.66890563, 0.68119872, 0.69353405, 0.70591268, 0.71833562,\n",
       "       0.73080391, 0.74331857, 0.75588064, 0.76849116, 0.78115114,\n",
       "       0.79386162, 0.80662363, 0.8194382 , 0.83230636, 0.84522915,\n",
       "       0.85820759, 0.87124271, 0.88433555, 0.89748713, 0.91069849,\n",
       "       0.92397065, 0.93730465, 0.95070152, 0.96416228, 0.97768798,\n",
       "       0.99127963, 1.00493827, 1.01866493, 1.03246065, 1.04632644,\n",
       "       1.06026335, 1.0742724 , 1.08835462, 1.10251105, 1.11674271,\n",
       "       1.13105063, 1.14543586, 1.15989941, 1.17444231, 1.1890656 ,\n",
       "       1.20377032, 1.21855748, 1.23342812, 1.24838326, 1.26342395,\n",
       "       1.27855122, 1.29376608, 1.30906958, 1.32446273, 1.33994659,\n",
       "       1.35552216, 1.3711905 , 1.38695261, 1.40280955, 1.41876233,\n",
       "       1.43481198, 1.45095955, 1.46720605, 1.48355253, 1.5       ])"
      ]
     },
     "execution_count": 7,
     "metadata": {},
     "output_type": "execute_result"
    }
   ],
   "source": [
    "y = scipy.linalg.solve(d2ydx2,g)\n",
    "y"
   ]
  },
  {
   "cell_type": "code",
   "execution_count": 8,
   "metadata": {},
   "outputs": [
    {
     "data": {
      "image/png": "[encoded data removed]",
      "text/plain": [
       "<Figure size 432x288 with 1 Axes>"
      ]
     },
     "metadata": {
      "needs_background": "light"
     },
     "output_type": "display_data"
    }
   ],
   "source": [
    "plt.plot(x,y);"
   ]
  },
  {
   "cell_type": "code",
   "execution_count": 9,
   "metadata": {},
   "outputs": [
    {
     "name": "stdout",
     "output_type": "stream",
     "text": [
      "[0.2        0.21144798 0.222897   0.23434807 0.24580224 0.25726053\n",
      " 0.26872397 0.2801936  0.29167044 0.30315552]\n"
     ]
    }
   ],
   "source": [
    "print(y[0:10])"
   ]
  },
  {
   "cell_type": "code",
   "execution_count": 10,
   "metadata": {},
   "outputs": [
    {
     "ename": "SyntaxError",
     "evalue": "invalid syntax (<ipython-input-10-93b75ca732ea>, line 16)",
     "output_type": "error",
     "traceback": [
      "\u001b[1;36m  File \u001b[1;32m\"<ipython-input-10-93b75ca732ea>\"\u001b[1;36m, line \u001b[1;32m16\u001b[0m\n\u001b[1;33m    0.372297\u001b[0m\n\u001b[1;37m    ^\u001b[0m\n\u001b[1;31mSyntaxError\u001b[0m\u001b[1;31m:\u001b[0m invalid syntax\n"
     ]
    }
   ],
   "source": [
    "ycpp = [0.2,\n",
    "0.211448,\n",
    "0.222897,\n",
    "0.234348,\n",
    "0.245802,\n",
    "0.257261,\n",
    "0.268724,\n",
    "0.280194,\n",
    " 0.29167,\n",
    "0.303156,\n",
    " 0.31465,\n",
    "0.326155,\n",
    "0.337671,\n",
    "0.349199,\n",
    "0.360741\n",
    "0.372297\n",
    "0.383869\n",
    "0.395457\n",
    "0.407062\n",
    "0.418687\n",
    " 0.43033\n",
    "0.441995\n",
    "0.453681\n",
    " 0.46539\n",
    "0.477122\n",
    "0.488879\n",
    "0.500662\n",
    "0.512472\n",
    "0.524309\n",
    "0.536176\n",
    "0.548072\n",
    "0.559999\n",
    "0.571958\n",
    "0.583951\n",
    "0.595977\n",
    "0.608038\n",
    "0.620135\n",
    " 0.63227\n",
    "0.644442\n",
    "0.656654\n",
    "0.668906\n",
    "0.681199\n",
    "0.693534\n",
    "0.705913\n",
    "0.718336\n",
    "0.730804\n",
    "0.743319\n",
    "0.755881\n",
    "0.768491\n",
    "0.781151\n",
    "0.793862\n",
    "0.806624\n",
    "0.819438\n",
    "0.832306\n",
    "0.845229\n",
    "0.858208\n",
    "0.871243\n",
    "0.884336\n",
    "0.897487\n",
    "0.910698\n",
    "0.923971\n",
    "0.937305\n",
    "0.950702\n",
    "0.964162\n",
    "0.977688\n",
    " 0.99128\n",
    " 1.00494\n",
    " 1.01866\n",
    " 1.03246\n",
    " 1.04633\n",
    " 1.06026\n",
    " 1.07427\n",
    " 1.08835\n",
    " 1.10251\n",
    " 1.11674\n",
    " 1.13105\n",
    " 1.14544\n",
    "  1.1599\n",
    " 1.17444\n",
    " 1.18907\n",
    " 1.20377\n",
    " 1.21856\n",
    " 1.23343\n",
    " 1.24838\n",
    " 1.26342\n",
    " 1.27855\n",
    " 1.29377\n",
    " 1.30907\n",
    " 1.32446\n",
    " 1.33995\n",
    " 1.35552\n",
    " 1.37119\n",
    " 1.38695\n",
    " 1.40281\n",
    " 1.41876\n",
    " 1.43481\n",
    " 1.45096\n",
    " 1.46721\n",
    " 1.48355\n",
    "     1.5]"
   ]
  }
 ],
 "metadata": {
  "kernelspec": {
   "display_name": "Python 3",
   "language": "python",
   "name": "python3"
  },
  "language_info": {
   "codemirror_mode": {
    "name": "ipython",
    "version": 3
   },
   "file_extension": ".py",
   "mimetype": "text/x-python",
   "name": "python",
   "nbconvert_exporter": "python",
   "pygments_lexer": "ipython3",
   "version": "3.8.3"
  }
 },
 "nbformat": 4,
 "nbformat_minor": 4
}
