{
 "cells": [
  {
   "cell_type": "markdown",
   "metadata": {
    "slideshow": {
     "slide_type": "slide"
    }
   },
   "source": [
    "# ODEs and decompositions\n",
    "<br>\n",
    "\n",
    "<div style=\"background-color:Lavender; margin-left: 20px; margin-right: 20px; padding-bottom: 8px; padding-left:\n",
    "8px; padding-right: 8px; padding-top: 8px; border-radius: 25px;\">\t\n",
    "<p>Learning outcomes:</p>\n",
    "</div>\n",
    "<br>\n",
    "\n",
    "<div style=\"background-color:Gold; margin-left: 20px; margin-right: 20px; padding-bottom: 8px; padding-left:\n",
    "8px; padding-right: 8px; padding-top: 8px; border-radius: 25px;\">\n",
    "<li> Look at decompositions of matrix eqautions and how they can be used to solve linear equations.</li>\n",
    "</div>\n",
    "<br>\n",
    "\n",
    "<div style=\"background-color:Lavender; margin-left: 20px; margin-right: 20px; padding-bottom: 8px; padding-left:\n",
    "8px; padding-right: 8px; padding-top: 8px; border-radius: 25px;\">\n",
    "    <h3>Matt Watkins mwatkins@lincoln.ac.uk</h3>\n",
    "</div>"
   ]
  },
  {
   "cell_type": "markdown",
   "metadata": {
    "slideshow": {
     "slide_type": "slide"
    }
   },
   "source": [
    "## LU decomposition\n",
    "<p>Again we want to solve $\\textbf{Ax - b} = 0$</p>\n",
    "<p class='fragment'> Suppose we can rewrite this as \n",
    "\\[\n",
    "\\left( \\begin{array}{ccc}\n",
    "u_{00} & u_{01} & u_{02} \\\\ \n",
    "0 & u_{11} & u_{12} \\\\ \n",
    "0 & 0 & u_{22} \\\\ \n",
    "\\end{array} \\right)\n",
    "\\left( \\begin{array}{c}\n",
    "x_{0} \\\\ \n",
    "x_{1} \\\\ \n",
    "x_{2} \\\\ \n",
    "\\end{array} \\right) - \n",
    "\\left( \\begin{array}{c}\n",
    "d_{0} \\\\ \n",
    "d_{1} \\\\ \n",
    "d_{2} \\\\ \n",
    "\\end{array} \\right)\n",
    "= 0\n",
    "\\]\n",
    "which looks similar to Gauss elmination. \n",
    "</p>\n",
    "<p class='fragment'>\n",
    "In matrix notation $$\\textbf{Ux - d = 0}$$.\n",
    "</p>"
   ]
  },
  {
   "cell_type": "markdown",
   "metadata": {
    "slideshow": {
     "slide_type": "slide"
    }
   },
   "source": [
    "<p class='fragment'>Now, assume there is a lower diagonal matrix $\\textbf{L}$ with '1's on the diagonal\n",
    "\\[\n",
    "\\left( \\begin{array}{ccc}\n",
    "1 & 0 & 0 \\\\ \n",
    "l_{10} & 1 & 0 \\\\ \n",
    "l_{20} & l_{21} & 1 \\\\ \n",
    "\\end{array} \\right)\n",
    "\\]\n",
    "</p>\n",
    "<p class='fragment'>that has the property that, premultiplying by $\\textbf{L}$ we get\n",
    "$$\n",
    "\\textbf{LUx} - \\textbf{Ld} = \\textbf{Ax} - \\textbf{b}  \n",
    "$$\n",
    "</p>"
   ]
  },
  {
   "cell_type": "markdown",
   "metadata": {
    "slideshow": {
     "slide_type": "slide"
    }
   },
   "source": [
    "## LU decomposition\n",
    "\n",
    "<p> To ensure that\n",
    "$$\n",
    "\\textbf{LUx} - \\textbf{Ld} = \\textbf{Ax} - \\textbf{b}  \n",
    "$$\n",
    "we require that\n",
    "</p>\n",
    "<p class='fragment'>\n",
    "$$\n",
    "\\textbf{LU = A}\n",
    "$$\n",
    "and\n",
    "$$\n",
    "\\textbf{Ld = b}\n",
    "$$\n",
    "</p>"
   ]
  },
  {
   "cell_type": "markdown",
   "metadata": {
    "slideshow": {
     "slide_type": "slide"
    }
   },
   "source": [
    "## Triangularization by Gauss elimination\n",
    "\n",
    "<p>When we do the Gauss elimination method, we actually find all the elements of $\\textbf{L}$, we just need to store them. <br> It is the inverse of the matrix we would need to multiply $\\textbf{b}$ by to get the correct RHS in the Gauss elmination method. </p>\n",
    "<p>Let us take an initial augmented matrix, and record the values that we would scale the $\\textbf{b}$ matrix by if it were there: \n",
    "\\[ \\left( \\begin{array}{cccc}\n",
    "a_{00} & a_{01} & a_{02} & a_{03}\\\\ \n",
    "a_{10} & a_{11} & a_{12} & a_{13}\\\\ \n",
    "a_{20} & a_{21} & a_{22} & a_{23}\\\\ \n",
    "a_{30} & a_{31} & a_{32} & a_{33}\\\\ \n",
    "\\end{array} \\right) \\]\n",
    "</p>\n",
    "<p class=fragment>\n",
    "pivoting around row 0, we remove all entries below the diagonal entry in column 0, doing this we scaled the $\\textbf{b}$ matrix by the ratios shown on the right\n",
    "\\[ \\left( \\begin{array}{cccc}\n",
    "a_{00} & a_{01} & a_{02} & a_{03}\\\\ \n",
    "0      & a'_{11} & a'_{12} & a'_{13}\\\\ \n",
    "0      & a'_{21} & a'_{22} & a'_{23}\\\\ \n",
    "0      & a'_{31} & a'_{32} & a'_{33}\\\\ \n",
    "\\end{array} \\right)\n",
    "\\qquad\n",
    "\\left( \\begin{array}{cccc}\n",
    "1 & 0 & 0 & 0\\\\ \n",
    "\\frac{a_{10}}{a_{00}} &  &  &  & \\\\ \n",
    "\\frac{a_{20}}{a_{00}} &  &  &  & \\\\ \n",
    "\\frac{a_{30}}{a_{00}} &  &  &  & \\\\ \n",
    "\\end{array} \\right) \\]\n",
    "</p>\n"
   ]
  },
  {
   "cell_type": "markdown",
   "metadata": {
    "slideshow": {
     "slide_type": "slide"
    }
   },
   "source": [
    "<p>\n",
    "Matrix after pivoting around row 0\n",
    "\\[ \\left( \\begin{array}{cccc}\n",
    "a_{00} & a_{01} & a_{02} & a_{03}\\\\ \n",
    "0      & a'_{11} & a'_{12} & a'_{13}\\\\ \n",
    "0      & a'_{21} & a'_{22} & a'_{23}\\\\ \n",
    "0      & a'_{31} & a'_{32} & a'_{33}\\\\ \n",
    "\\end{array} \\right)\n",
    "\\qquad\n",
    "\\left( \\begin{array}{cccc}\n",
    "1 & 0 & 0 & 0\\\\ \n",
    "\\frac{a_{10}}{a_{00}} &  &  &  & \\\\ \n",
    "\\frac{a_{20}}{a_{00}} &  &  &  & \\\\ \n",
    "\\frac{a_{30}}{a_{00}} &  &  &  & \\\\ \n",
    "\\end{array} \\right) \\]\n",
    "</p><p class=fragment>\n",
    "Then pivoting around row 1 we remove elements below the diagonal in column 1, and subtract multiples of the 2nd row of $\\textbf{b}$ as shown in the right hand matrix\n",
    "\\[ \\left( \\begin{array}{cccc}\n",
    "a_{00} & a_{01} & a_{02} & a_{03}\\\\ \n",
    "0      & a'_{11} & a'_{12} & a'_{13}\\\\ \n",
    "0      & 0       & a''_{22} & a''_{23}\\\\ \n",
    "0      & 0       & a''_{32} & a''_{33}\\\\ \n",
    "\\end{array} \\right)\n",
    "\\qquad\n",
    "\\left( \\begin{array}{cccc}\n",
    "1 &  &  & \\\\ \n",
    "\\frac{a_{10}}{a_{00}} & 1  &  &  & \\\\ \n",
    "\\frac{a_{20}}{a_{00}} & \\frac{a'_{21}}{a'_{10}} &  &  & \\\\ \n",
    "\\frac{a_{30}}{a_{00}} & \\frac{a'_{31}}{a'_{10}} &  &  & \\\\ \n",
    "\\end{array} \\right) \\]\n",
    "</p><p class=fragment>    \n",
    "pivoting around row 2\n",
    "\\[ \\left( \\begin{array}{cccc}\n",
    "a_{00} & a_{01} & a_{02} & a_{03}\\\\ \n",
    "0      & a'_{11} & a'_{12} & a'_{13}\\\\ \n",
    "0      & 0       & a''_{22} & a''_{23}\\\\ \n",
    "0      & 0       & 0        & a'''_{33}\\\\ \n",
    "\\end{array} \\right)\n",
    "\\qquad\n",
    "\\left( \\begin{array}{cccc}\n",
    "1 &  &  & \\\\ \n",
    "\\frac{a_{10}}{a_{00}} & 1  &  &  & \\\\ \n",
    "\\frac{a_{20}}{a_{00}} & \\frac{a'_{21}}{a'_{11}} &  1 &  & \\\\ \n",
    "\\frac{a_{30}}{a_{00}} & \\frac{a'_{31}}{a'_{11}} & \\frac{a''_{32}}{a''_{22}} &  & \\\\ \n",
    "\\end{array} \\right) \\]\n",
    "</p>\n"
   ]
  },
  {
   "cell_type": "markdown",
   "metadata": {
    "slideshow": {
     "slide_type": "slide"
    }
   },
   "source": [
    "<p>   \n",
    "we had got to\n",
    "\\[ \\left( \\begin{array}{cccc}\n",
    "a_{00} & a_{01} & a_{02} & a_{03}\\\\ \n",
    "0      & a'_{11} & a'_{12} & a'_{13}\\\\ \n",
    "0      & 0       & a''_{22} & a''_{23}\\\\ \n",
    "0      & 0       & 0        & a'''_{33}\\\\ \n",
    "\\end{array} \\right)\n",
    "\\qquad\n",
    "\\left( \\begin{array}{cccc}\n",
    "1 &  &  & \\\\ \n",
    "\\frac{a_{10}}{a_{00}} & 1  &  &  & \\\\ \n",
    "\\frac{a_{20}}{a_{00}} & \\frac{a'_{21}}{a'_{11}} &  1 &  & \\\\ \n",
    "\\frac{a_{30}}{a_{00}} & \\frac{a'_{31}}{a'_{11}} & \\frac{a''_{32}}{a''_{22}} &  & \\\\ \n",
    "\\end{array} \\right) \\]\n",
    "</p>\n",
    "<p class='fragment'>    \n",
    "if we fill in the rest of the matrix on the right we have\n",
    "\\[ \\left( \\begin{array}{cccc}\n",
    "a_{00} & a_{01} & a_{02} & a_{03}\\\\ \n",
    "0      & a'_{11} & a'_{12} & a'_{13}\\\\ \n",
    "0      & 0       & a''_{22} & a''_{23}\\\\ \n",
    "0      & 0       & 0        & a'''_{33}\\\\ \n",
    "\\end{array} \\right)\n",
    "\\qquad\n",
    "\\left( \\begin{array}{cccc}\n",
    "1 & 0 & 0 & 0\\\\ \n",
    "\\frac{a_{10}}{a_{00}} & 1  & 0 & 0 & \\\\ \n",
    "\\frac{a_{20}}{a_{00}} & \\frac{a'_{21}}{a'_{11}} &  1 & 0 & \\\\ \n",
    "\\frac{a_{30}}{a_{00}} & \\frac{a'_{31}}{a'_{11}} & \\frac{a''_{32}}{a''_{22}} & 1 & \\\\ \n",
    "\\end{array} \\right) \\]\n",
    "</p>"
   ]
  },
  {
   "cell_type": "markdown",
   "metadata": {
    "slideshow": {
     "slide_type": "slide"
    }
   },
   "source": [
    "<p>We can show for a real system that this new matrix is $\\textbf{L}$\n",
    "\\[ \\left( \\begin{array}{cccc}\n",
    "1 & 0 & 0 & 0\\\\ \n",
    "\\frac{a_{10}}{a_{00}} & 1  & 0 & 0 & \\\\ \n",
    "\\frac{a_{20}}{a_{00}} & \\frac{a'_{21}}{a'_{11}} &  1 & 0 & \\\\ \n",
    "\\frac{a_{30}}{a_{00}} & \\frac{a'_{31}}{a'_{11}} & \\frac{a''_{32}}{a''_{22}} & 1 & \\\\ \n",
    "\\end{array} \\right)\n",
    "\\left( \\begin{array}{cccc}\n",
    "a_{00} & a_{01} & a_{02} & a_{03}\\\\ \n",
    "0      & a'_{11} & a'_{12} & a'_{13}\\\\ \n",
    "0      & 0       & a''_{22} & a''_{23}\\\\ \n",
    "0      & 0       & 0        & a'''_{33}\\\\ \n",
    "\\end{array} \\right)\n",
    "=\n",
    "\\left( \\begin{array}{cccc}\n",
    "a_{00} & a_{01} & a_{02} & a_{03}\\\\ \n",
    "a_{10} & a_{11} & a_{12} & a_{13}\\\\ \n",
    "a_{20} & a_{21} & a_{22} & a_{23}\\\\ \n",
    "a_{30} & a_{31} & a_{32} & a_{33}\\\\ \n",
    "\\end{array} \\right) \\]\n",
    "</p>\n",
    "<p>\n",
    "$$\n",
    "\\textbf{LU = A}\n",
    "$$\n",
    "and\n",
    "$$\n",
    "\\textbf{Ld = b}\n",
    "$$\n",
    "</p>"
   ]
  },
  {
   "cell_type": "markdown",
   "metadata": {
    "slideshow": {
     "slide_type": "slide"
    }
   },
   "source": [
    "- So only very minor changes in the Gauss elimination code are needed. <br>\n",
    "- You can store the nondiagonal elements of $\\textbf{L}$ in what would be the zero elements of the row echelon matrix.\n"
   ]
  },
  {
   "cell_type": "markdown",
   "metadata": {
    "slideshow": {
     "slide_type": "slide"
    }
   },
   "source": [
    "<h2 id=\"LU decomposition\">LU decomposition<a class=\"anchor-link\" href=\"#LU decomposition\">&#182;</a></h2>\n",
    "<p>An advantage of LU decompostion is we calculate $\\textbf{L}$ and $\\textbf{U}$ once, then we can easily find $\\textbf{x}$ for any $\\textbf{b}$</p>\n",
    "<p>Having $\\textbf{L}$ we can solve $\\textbf{Ld} = \\textbf{b}$ for $\\textbf{d}$ by forward substitution\n",
    "\\[ \\left( \\begin{array}{cccc}\n",
    "1 & 0 & 0 & 0\\\\ \n",
    "\\frac{a_{10}}{a_{00}} & 1  & 0 & 0 & \\\\ \n",
    "\\frac{a_{20}}{a_{00}} & \\frac{a'_{21}}{a'_{11}} &  1 & 0 & \\\\ \n",
    "\\frac{a_{30}}{a_{00}} & \\frac{a'_{31}}{a'_{11}} & \\frac{a''_{32}}{a''_{22}} & 1 & \\\\ \n",
    "\\end{array} \\right)\n",
    "\\left( \\begin{array}{c}\n",
    "d_0 \\\\ d_1 \\\\ d_2 \\\\ d_3 \\\\\n",
    "\\end{array} \\right)\n",
    "=\n",
    "\\left( \\begin{array}{c}\n",
    "b_0 \\\\ b_1 \\\\ b_2 \\\\ b_3 \\\\\n",
    "\\end{array} \\right)\\]\n",
    "i.e. multiplying out the equations starting from the top row.\n",
    "</p>\n",
    "<p> Then, having constructed $\\textbf{d}$ for the given $\\textbf{b}$ we continue exactly like in Gauss Elimination using back substitution to find $\\textbf{x}$\n",
    "\\[\\left( \\begin{array}{cccc}\n",
    "a_{00} & a_{01} & a_{02} & a_{03}\\\\ \n",
    "0      & a'_{11} & a'_{12} & a'_{13}\\\\ \n",
    "0      & 0       & a''_{22} & a''_{23}\\\\ \n",
    "0      & 0       & 0        & a'''_{33}\\\\ \n",
    "\\end{array} \\right)\n",
    "\\left( \\begin{array}{c}\n",
    "x_0 \\\\ x_1 \\\\ x_2 \\\\ x_3 \\\\\n",
    "\\end{array} \\right)\n",
    "=\n",
    "\\left( \\begin{array}{c}\n",
    "d_0 \\\\ d_1 \\\\ d_2 \\\\ d_3 \\\\\n",
    "\\end{array} \\right)\\]\n",
    "\n",
    "</p>"
   ]
  },
  {
   "cell_type": "markdown",
   "metadata": {
    "slideshow": {
     "slide_type": "slide"
    }
   },
   "source": [
    "<p>We can directly use this method in the Eigen library.\n",
    "<pre>\n",
    "<code>\n",
    "#include <iostream>\n",
    "#include <Eigen/Dense>\n",
    "using namespace std;\n",
    "using namespace Eigen;\n",
    "int main()\n",
    "{\n",
    "    Matrix3f A;\n",
    "    Vector3f b;\n",
    "    A << 1,2,3,  4,5,6,  7,8,10;\n",
    "    b << 3, 3, 4;\n",
    "    cout << \"Here is the matrix A:\\n\" << A << endl;\n",
    "    cout << \"Here is the vector b:\\n\" << b << endl;\n",
    "    Vector3f x = A.fullPivLu().solve(b);\n",
    "    cout << \"The solution is:\\n\" << x << endl;\n",
    "}          \n",
    "</code>\n",
    "</pre>\n",
    "</p>\n",
    "\n",
    "The reference for the full LU decompositon method is [here](https://eigen.tuxfamily.org/dox/classEigen_1_1FullPivLU.html)."
   ]
  },
  {
   "cell_type": "markdown",
   "metadata": {
    "slideshow": {
     "slide_type": "slide"
    }
   },
   "source": [
    "<h2 id=\"LU decomposition\">LU decomposition<a class=\"anchor-link\" href=\"#LU decomposition\">&#182;</a></h2>\n",
    "<p> We can use LU decomposition to find the inverse of a matrix, by setting $b$ to the columns of the identity matrix, $I$.\n",
    "</p>\n",
    "<p>For example we get the first column of $\\textbf{A}^{-1}$ by using $\\textbf{b}^T = (1,0,0,0)$\n",
    "\\[ \\left( \\begin{array}{cccc}\n",
    "1 & 0 & 0 & 0\\\\ \n",
    "\\frac{a_{10}}{a_{00}} & 1  & 0 & 0 & \\\\ \n",
    "\\frac{a_{20}}{a_{00}} & \\frac{a'_{21}}{a'_{11}} &  1 & 0 & \\\\ \n",
    "\\frac{a_{30}}{a_{00}} & \\frac{a'_{31}}{a'_{11}} & \\frac{a''_{32}}{a''_{22}} & 1 & \\\\ \n",
    "\\end{array} \\right)\n",
    "\\left( \\begin{array}{c}\n",
    "d_0 \\\\ d_1 \\\\ d_2 \\\\ d_3 \\\\\n",
    "\\end{array} \\right)\n",
    "=\n",
    "\\left( \\begin{array}{c}\n",
    "1 \\\\ 0 \\\\ 0 \\\\ 0 \\\\\n",
    "\\end{array} \\right)\\]\n",
    "i.e. multiplying out the equations starting from the top row.\n",
    "</p>\n",
    "\n",
    "<p> Then, having constructed $\\textbf{d}$ for the given $\\textbf{b}$ we continue exactly like in Gauss Elimination using back substitution to find $\\textbf{x}$\n",
    "\\[\\left( \\begin{array}{cccc}\n",
    "a_{00} & a_{01} & a_{02} & a_{03}\\\\ \n",
    "0      & a'_{11} & a'_{12} & a'_{13}\\\\ \n",
    "0      & 0       & a''_{22} & a''_{23}\\\\ \n",
    "0      & 0       & 0        & a'''_{33}\\\\ \n",
    "\\end{array} \\right)\n",
    "\\left( \\begin{array}{c}\n",
    "A^{-1}_{00} \\\\ A^{-1}_{10} \\\\ A^{-1}_{20} \\\\ A^{-1}_{30} \\\\\n",
    "\\end{array} \\right)\n",
    "=\n",
    "\\left( \\begin{array}{c}\n",
    "d_0 \\\\ d_1 \\\\ d_2 \\\\ d_3 \\\\\n",
    "\\end{array} \\right)\\]\n",
    "Then we build the other columns of $\\textbf{A}^{-1}$ from the other unit vectors.\n",
    "</p>"
   ]
  },
  {
   "cell_type": "markdown",
   "metadata": {
    "slideshow": {
     "slide_type": "slide"
    }
   },
   "source": [
    "<p>If you want to understand the LU decomposition clearly, adapt a gauss-elim type code to also perform LU decomposition</p>\n",
    "\n",
    "<div style=\"background-color:Lavender; margin-left: 20px; margin-right: 20px; padding-bottom: 8px; padding-left:\n",
    "8px; padding-right: 8px; padding-top: 8px; border-radius: 25px;\">\n",
    "<p> Find the inverse of this matrix using LU decomposition \n",
    "\\[ \\left( \\begin{array}{cccc}\n",
    "2 & 2 & 4 & -2 \\\\ \n",
    "1 & 3 & 2 & 4 \\\\ \n",
    "3 & 1 & 3 & 1\\\\ \n",
    "1 & 3 & 4 & 2 \\\\ \n",
    "\\end{array} \\right) \\]\n",
    "<br>\n",
    "</div>\n",
    "    \n",
    "Check your solution is correct by comparison to Gauss-Jordan or Eigen / numpy libraries.\n",
    "Note you can also get the determinant from LU decomposition - how?"
   ]
  },
  {
   "cell_type": "markdown",
   "metadata": {
    "slideshow": {
     "slide_type": "slide"
    }
   },
   "source": [
    "<h2 id=\"QR decomposition\">QR decomposition<a class=\"anchor-link\" href=\"#QR decomposition\">&#182;</a></h2>\n",
    "<h4>Why another decomposition???</h4>\n",
    "<p>This decomposition is part of the 'QR' algorithm to find the eigenvalues and vectors of a matrix.</p>\n",
    "<p>Any real square matrix A may be decomposed as\n",
    "$$\n",
    "\\textbf{A} = \\textbf{QR},\n",
    "$$\n",
    "where\n",
    "<li>$\\textbf{Q}$ is an orthogonal matrix (its columns are orthogonal unit vectors meaning $\\textbf{Q}^t\\textbf{Q} = I$)</li>\n",
    "<li>$\\textbf{R}$ is an upper triangular matrix (also called right triangular matrix).</li></p>\n",
    "<p>If $\\textbf{A}$ is invertible, then the factorization is unique if we require the diagonal elements of $\\textbf{R}$ to be positive.</p>\n"
   ]
  },
  {
   "cell_type": "markdown",
   "metadata": {
    "slideshow": {
     "slide_type": "slide"
    }
   },
   "source": [
    "<h2 id=\"QR decomposition\">QR decomposition<a class=\"anchor-link\" href=\"#QR decomposition\">&#182;</a></h2>\n",
    "<h4>Gram–Schmidt orthogonalisation.</h4>\n",
    "<p>You may remember this from linear algebra - we build an orthogonal basis by sucessively projecting out previous basis vectors</p>\n",
    "<p>We can scan across the columns of our matrix $\\textbf{A}$ and remove the components of any previous column by subtracting the dot product.</p>\n",
    "<p>Take an initial matrix $\\textbf{A}$\n",
    "$$\n",
    "\\textbf{A} = \n",
    "\\begin{pmatrix}\n",
    "12 & -51 & 4 \\\\\n",
    "6 & 167 & -68 \\\\\n",
    "-4 & 24 & -41\n",
    "\\end{pmatrix}\n",
    "$$\n",
    "</p>\n",
    "<p>First we'll make an orthogonal matrix $\\textbf{U}$, we'll keep the first column.</p>\n",
    "$$\n",
    "\\textbf{U} = \n",
    "\\begin{pmatrix}\n",
    "12 & ? & ? \\\\\n",
    "6 & ? & ? \\\\\n",
    "-4 & ? & ?\n",
    "\\end{pmatrix}\n",
    "$$\n",
    "<p>To get the 2nd column orthogonal, we subtract the projection of the second column onto the first column from the 2nd column.</p>\n"
   ]
  },
  {
   "cell_type": "markdown",
   "metadata": {
    "slideshow": {
     "slide_type": "slide"
    }
   },
   "source": [
    "<p>To get the 2nd column orthogonal, we subtract the projection of the second column onto the first column from the 2nd column.\n",
    "$$\n",
    "\\textbf{U} = \n",
    "\\begin{pmatrix}\n",
    "12 & -51 - \\text{proj}_{col_1} & ? \\\\\n",
    "6 & 167 - \\text{proj}_{col_1} & ? \\\\\n",
    "-4 &  24 - \\text{proj}_{col_1} & ?\n",
    "\\end{pmatrix}\n",
    "$$\n",
    "where the projection onto the first column is given by\n",
    "$$\n",
    "\\begin{array}\n",
    "\\text{proj}_{col_1} & = \\left \\lt \\textbf{col}_2 \\cdot \\frac{\\textbf{col}_1}{||col_1||} \\right\\gt \\frac{\\textbf{col_1}}{||col_1||} \\\\\n",
    "& = \\left \\lt (-51, 167, 24)\\cdot \\begin{pmatrix}12\\\\6\\\\4 \\end{pmatrix} \\right \\gt (12, 6, 4) \\frac{1 }{(12^2 + 6^2 + 4^2)}  \\\\\n",
    "& = \\frac{294}{196} (12 ,6, 4) = (18, 9, -6)\n",
    "\\end{array}\n",
    "$$\n",
    "so\n",
    "$$\n",
    "\\textbf{U} = \n",
    "\\begin{pmatrix}\n",
    "12 & -51 - 18 & ? \\\\\n",
    "6 & 167 - 9 & ? \\\\\n",
    "-4 &  24 - -6 & ?\n",
    "\\end{pmatrix}\n",
    "=\n",
    "\\begin{pmatrix}\n",
    "12 & -69 & ?\\\\\n",
    "6 & 158 & ? \\\\\n",
    "-4 &  30 & ?\n",
    "\\end{pmatrix}\n",
    "$$  \n",
    "</p>\n"
   ]
  },
  {
   "cell_type": "markdown",
   "metadata": {
    "slideshow": {
     "slide_type": "slide"
    }
   },
   "source": [
    "<p>Two get the 3rd column orthogonal, we subtract the projection of the third column onto the first two columns.\n",
    "\\begin{align*}\n",
    "\\textbf{U} & = \n",
    "\\begin{pmatrix}\n",
    "12 & -69 & 4 - ( \\text{proj}_{col_1} + \\text{proj}_{col_2}) \\\\\n",
    "6 & 158 & -68 - (\\text{proj}_{col_1} + \\text{proj}_{col_2}) \\\\\n",
    "-4 &  30 & -41 - (\\text{proj}_{col_1} + \\text{proj}_{col_2}) \\\\\n",
    "\\end{pmatrix}\\\\\n",
    "& =\n",
    "\\begin{pmatrix}\n",
    "12 & -69 & -58/5 \\\\\n",
    "6 & 158 & 6/5 \\\\\n",
    "-4 &  30 & -33 \\\\\n",
    "\\end{pmatrix}\\\\\n",
    "\\end{align*}\n",
    "Now we make each column a unit vector to get the orthogonal matrix $\\textbf{Q}$<br>\n",
    "$$\\textbf{Q} = \n",
    "\\begin{pmatrix}\n",
    "\\frac{\\mathbf u_1}{\\|\\mathbf u_1\\|} &\n",
    "\\frac{\\mathbf u_2}{\\|\\mathbf u_2\\|} &\n",
    "\\frac{\\mathbf u_3}{\\|\\mathbf u_3\\|}\n",
    "\\end{pmatrix}\n",
    "=\n",
    "\\begin{pmatrix}\n",
    "6/7    &    -69/175   &   -58/175   \\\\\n",
    "3/7    &    158/175   &     6/175   \\\\\n",
    "-2/7    &      6/35    &   -33/35\n",
    "\\end{pmatrix}.\n",
    "$$\n",
    "</p>\n"
   ]
  },
  {
   "cell_type": "markdown",
   "metadata": {
    "slideshow": {
     "slide_type": "slide"
    }
   },
   "source": [
    "<p>Remember, we wanted\n",
    "$$\n",
    "\\textbf{A} = \\textbf{QR},\n",
    "$$\n",
    "</p>\n",
    "<p class='fragment'>\n",
    "if we premultiply by $\\textbf{Q}^T$ we get\n",
    "$$\n",
    "\\textbf{Q}^T\\textbf{A} = \\textbf{Q}^T\\textbf{QR},\n",
    "$$\n",
    "</p>\n",
    "<p class='fragment'>\n",
    "but for an orthogonal matrix $\\textbf{Q}^T\\textbf{Q} = \\textbf{I}$ so we have\n",
    "$$\n",
    "\\textbf{Q}^T\\textbf{A} = \\textbf{R},\n",
    "$$\n",
    "and we can find $\\textbf{R}$ my mulitplying our original matrix $\\textbf{A}$ and the (transposed) orthogonal matrix  we just found.\n",
    "$$\n",
    "\\begin{matrix}\n",
    "R=Q^{T}A=\n",
    "\\end{matrix}\n",
    "\\begin{pmatrix}\n",
    "14&21&-14\\\\\n",
    "0&175&-70\\\\\n",
    "0&0&35\n",
    "\\end{pmatrix}.\n",
    "$$\n",
    "</p>"
   ]
  },
  {
   "cell_type": "markdown",
   "metadata": {
    "slideshow": {
     "slide_type": "slide"
    }
   },
   "source": [
    "## QR usage and exercise\n",
    "\n",
    "Real life examples normally use [Householder transformations](https://en.wikipedia.org/wiki/Householder_transformation) rather than Gramm-Schmidt orthogonalisation as they are more numerically stable.\n",
    "\n",
    "The QR factorization can be used for general least squares curve fitting, as a way of improving the stability of systems of linear equations and as part of an alogrithm to find the eigenvalues and vectors of a matrix.\n",
    "\n",
    "See if you can write a code to carry out the QR factorization of the matrix that we inverted earlier using Gramm-Schmidt orthogonalisation.\n",
    "\n",
    "<div style=\"background-color:Lavender; margin-left: 20px; margin-right: 20px; padding-bottom: 8px; padding-left:\n",
    "8px; padding-right: 8px; padding-top: 8px; border-radius: 25px;\">\n",
    "<p> Find the QR decomposition of this matrix:\n",
    "\\[ \\left( \\begin{array}{cccc}\n",
    "2 & 2 & 4 & -2 \\\\ \n",
    "1 & 3 & 2 & 4 \\\\ \n",
    "3 & 1 & 3 & 1\\\\ \n",
    "1 & 3 & 4 & 2 \\\\ \n",
    "\\end{array} \\right) \\]\n",
    "<br>\n",
    "</div>"
   ]
  },
  {
   "cell_type": "markdown",
   "metadata": {
    "slideshow": {
     "slide_type": "slide"
    }
   },
   "source": [
    "<h2 id=\"Summary and Further Reading\">Summary and Further Reading<a class=\"anchor-link\" href=\"#Summary and Further Reading\">&#182;</a></h2>\n",
    "<p>You should be reading additional material to provide a solid background to what we do in class</p>\n",
    "<p>All the textbooks contain sections on solving linear equations, for instance chapter 2 of <a href=\"http://apps.nrbook.com/c/index.html\">Numerical Recipes</a>.</p>\n",
    "\n",
    "Note to access numerical recipes you need to have Flash activated - this is ***not*** secure. I'd suggest at a minumum doing this in a separate incognito browser window without any other tabs open."
   ]
  }
 ],
 "metadata": {
  "celltoolbar": "Slideshow",
  "kernelspec": {
   "display_name": "Python 3",
   "language": "python",
   "name": "python3"
  },
  "language_info": {
   "codemirror_mode": {
    "name": "ipython",
    "version": 3
   },
   "file_extension": ".py",
   "mimetype": "text/x-python",
   "name": "python",
   "nbconvert_exporter": "python",
   "pygments_lexer": "ipython3",
   "version": "3.7.7"
  }
 },
 "nbformat": 4,
 "nbformat_minor": 4
}
