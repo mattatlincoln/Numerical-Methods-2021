{
 "cells": [
  {
   "cell_type": "markdown",
   "metadata": {
    "slideshow": {
     "slide_type": "slide"
    }
   },
   "source": [
    "# Module Handbook for Numerical Methods (MTH3007M)\n",
    "\n",
    "this document sets out the aims of the module, learning objectives and provides some use background material and suggestions.\n",
    "\n",
    "\n",
    "### Module synopsis\n",
    "\n",
    "\"The module equips the students with knowledge of various numerical methods for solving applied mathematics problems, their algorithms and implementation in  programming languages.\""
   ]
  },
  {
   "cell_type": "markdown",
   "metadata": {
    "slideshow": {
     "slide_type": "slide"
    }
   },
   "source": [
    "## Overview\n",
    "\n",
    "- Learning objectives\n",
    "- Assessment\n",
    "- Deadlines\n",
    "- Books\n",
    "- Contents\n",
    "- Room Policy\n"
   ]
  },
  {
   "cell_type": "markdown",
   "metadata": {
    "slideshow": {
     "slide_type": "slide"
    }
   },
   "source": [
    "## Learning Objectives\n",
    "\n",
    "- LO1: Apply numerical methods for curve fitting and solving various equations.\n",
    "\n",
    "- LO2:Critically analyse applied mathematical problems, choose and apply appropriate numerical methods for their solution.\n",
    "\n",
    "- LO3: Implement numerical solutions in efficient computer codes using a high level computer language.\n"
   ]
  },
  {
   "cell_type": "markdown",
   "metadata": {
    "slideshow": {
     "slide_type": "slide"
    }
   },
   "source": [
    "## Assessments\n",
    "\n",
    "This module will have two types of assessment\n",
    "\n",
    "- formative weekly short questions\n",
    "- Time Controlled Assessment assignments\n",
    "\n",
    "***Weekly short assessments*** will be marked on a very simple scheme to allow rapid feedback:\n",
    "    \n",
    "- 100 for a correct answer\n",
    "- 50 for an incorrect answer with substantial correct working displayed and a reasonable demonstration of understanding the question material similar to a logbook entry for the question.\n",
    "- 0 for an incorrect answer without supporting material\n",
    "\n",
    "Feedback will be provided in partially worked solutions that will be presented in the tutorial session. There will be time in the workshop sessions to get extra feedack from  the lecturers and demonstrators on your work.\n",
    "\n",
    "***Time Controlled Assessment assignments*** will consist of mini projects to be tackled over a period of a few days e.g. construct a predictive model from this data using methods you have seen in the module. They will be marked on an extended rubric detailing requirements for each degree classification:\n",
    "\n",
    "- Clear explanation of the problem addressed in mathematical terms\n",
    "- Explanation of the choice of method applied\n",
    "- Details of the numerical method implementation in your chosen language\n",
    "- Quality of the code - including comments, and testing.\n",
    "- Presentation of results and analysis \n",
    "\n",
    "A full rubric will be provided and examples given leading up to the TCA."
   ]
  },
  {
   "cell_type": "markdown",
   "metadata": {
    "slideshow": {
     "slide_type": "slide"
    }
   },
   "source": [
    "## Deadlines\n",
    "\n",
    "Weekly short questions will be opened to you in the Monday session on the material covered in the online lecture. They should be submitted online by 3 the following Monday. This will allow feedback to be given in the following sessions.\n",
    "\n",
    "There will be two time constrained assessments assignments. The first semester TCA will be on 19th Jan 2021."
   ]
  },
  {
   "cell_type": "markdown",
   "metadata": {
    "slideshow": {
     "slide_type": "slide"
    }
   },
   "source": [
    "## Logbooks\n",
    "\n",
    "Logbooks will not be directly assessed in this module.\n",
    "\n",
    "**BUT** we reallly do recommend that you keep a logbook for your own benefit. It is good professional practice and ...\n",
    "\n",
    "you can use your logbooks in Time Controlled Assessments.\n",
    "\n",
    "Alos, when submitting work you should attach evidence of your working, which would be very similar to relevant pages from your logbook."
   ]
  },
  {
   "cell_type": "markdown",
   "metadata": {
    "slideshow": {
     "slide_type": "slide"
    }
   },
   "source": [
    "## Module Contents \n",
    "\n",
    "- Curve fitting. \n",
    "- Numerical solution of non-linear equations.\n",
    "- Numerical solution of ordinary differential equations. \n",
    "- Solving systems of equations.\n",
    "- Numerical solution of partial differential equations.\n",
    "- Elements of stochastic methods.\n"
   ]
  },
  {
   "cell_type": "markdown",
   "metadata": {
    "slideshow": {
     "slide_type": "slide"
    }
   },
   "source": [
    "## Tools\n",
    "\n",
    "in principle you can use any high level programming language as the focus is on understanding the numerical methods not the computing.\n",
    "\n",
    "- we recommend and support the use of C++ or Python\n",
    "- To work with C++ you can use MS Visual Studio which is installed in the computer labs and also is freely downloadable from [here](https://visualstudio.microsoft.com/). There are many other options and depending on the power of your computer and operating system there may be better options - ask us. <img src='C++_logo.png' width=100px>\n",
    "- to work with Python I recommend Anaconda python which can be downloaded from [here](https://www.anaconda.com/products/individual) - click on the download button then pick the correct installer. I like using Jupyter notebooks – see the notebooks on Blackboard for reminder on how to use them - but there are many other nice working environments.  <img src='python_logo.png' width=100px>\n",
    "\n",
    "You can use either of these languages – it would be very beneficial for you to see what parts are essential and what are trivial details of a particular language to try and use both. Would be good for your CV too."
   ]
  }
 ],
 "metadata": {
  "celltoolbar": "Tags",
  "kernelspec": {
   "display_name": "Python 3",
   "language": "python",
   "name": "python3"
  },
  "language_info": {
   "codemirror_mode": {
    "name": "ipython",
    "version": 3
   },
   "file_extension": ".py",
   "mimetype": "text/x-python",
   "name": "python",
   "nbconvert_exporter": "python",
   "pygments_lexer": "ipython3",
   "version": "3.7.7"
  }
 },
 "nbformat": 4,
 "nbformat_minor": 4
}
